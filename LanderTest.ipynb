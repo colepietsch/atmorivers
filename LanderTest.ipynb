{
 "cells": [
  {
   "cell_type": "code",
   "execution_count": 5,
   "id": "88d6b359-b022-4d07-b384-c7ee54754bf4",
   "metadata": {},
   "outputs": [],
   "source": [
    "import xarray as xr\n",
    "import numpy as np\n",
    "import matplotlib.pyplot as plt\n",
    "import pandas as pd\n",
    "import cmocean\n",
    "import cartopy.crs as ccrs\n",
    "import cartopy.feature as cfeature\n",
    "from cartopy.util import add_cyclic_point\n",
    "import ftplib\n",
    "from io import BytesIO\n",
    "from PIL import Image, ImageDraw\n",
    "import os\n",
    "import ftplib\n",
    "import pandas as pd\n",
    "from glob import glob\n",
    "import imageio.v3 as iio\n"
   ]
  },
  {
   "cell_type": "code",
   "execution_count": null,
   "id": "f098cbd3-fc56-4af6-bba5-340ffe8f87e6",
   "metadata": {},
   "outputs": [],
   "source": []
  },
  {
   "cell_type": "code",
   "execution_count": 6,
   "id": "7d021986-616d-4d41-901a-60ed5c2af9c6",
   "metadata": {},
   "outputs": [],
   "source": [
    "#defining start and end time\n",
    "start = '2023-08-01'\n",
    "end = '2023-09-01'\n",
    "\n",
    " "
   ]
  },
  {
   "cell_type": "code",
   "execution_count": 7,
   "id": "d924976e-2843-44d6-9e16-5b24353916a2",
   "metadata": {},
   "outputs": [
    {
     "name": "stdout",
     "output_type": "stream",
     "text": [
      "768\n",
      "<xarray.DataArray 'tcwv' (time: 768, latitude: 181, longitude: 341)>\n",
      "[47401728 values with dtype=float32]\n",
      "Coordinates:\n",
      "  * longitude  (longitude) float32 -140.0 -139.8 -139.5 ... -55.5 -55.25 -55.0\n",
      "  * latitude   (latitude) float32 -15.0 -15.25 -15.5 ... -59.5 -59.75 -60.0\n",
      "  * time       (time) datetime64[ns] 2023-08-01 ... 2023-09-01T23:00:00\n",
      "Attributes:\n",
      "    units:          kg m**-2\n",
      "    long_name:      Total column vertically-integrated water vapour\n",
      "    standard_name:  lwe_thickness_of_atmosphere_mass_content_of_water_vapor\n"
     ]
    }
   ],
   "source": [
    "#loading data\n",
    "d = xr.open_dataset('/Users/landergreenway/Downloads/School/JuniorYr/EV333_AtmosphericDynamics/python/FinalProject/atmorivers/ERA5_SouthAmerica_2023_hourly_tcwv.nc')\n",
    "\n",
    "#subsetting data to average over i\n",
    "d = d.sel(time = slice(start, end))\n",
    "d = d['tcwv']\n",
    "\n",
    "#defining number of frames in given time period\n",
    "num = len(d['time'])\n",
    "print(num)\n",
    "print(d)"
   ]
  },
  {
   "cell_type": "code",
   "execution_count": 16,
   "id": "9d38147f-4eea-40e6-9bc2-252a883e07a1",
   "metadata": {},
   "outputs": [],
   "source": [
    "#data vis and projection\n",
    "cmap = cmocean.cm.thermal\n",
    "lev = np.arange(0, 20, 0.5)\n",
    "proj = ccrs.PlateCarree(central_longitude=-77)\n",
    "\n",
    "#creating loop\n",
    "for i in range(450, 455):\n",
    "\n",
    "    fig = plt.figure(figsize = (9, 4.5), dpi = 300)\n",
    "    ax = plt.axes(projection = proj)\n",
    "    \n",
    "    # filled contour map of IVT transfer\n",
    "    d[i].plot.contourf(\n",
    "        x = 'longitude',\n",
    "        y = 'latitude',\n",
    "        ax=ax,\n",
    "        transform=ccrs.PlateCarree(),\n",
    "        levels=lev,\n",
    "        extend='both',\n",
    "        colors=cmap,\n",
    "        add_colorbar=True,\n",
    "        cbar_kwargs = {\"label\":\"Water Vapor Transport (kg/m^2)\"})\n",
    "    # add coastlines\n",
    "    ax.coastlines(\n",
    "       resolution='50m')  #Currently can be one of “110m”, “50m”, and “10m”.\n",
    "\n",
    "# add coastlines masking the land in lightgray\n",
    "    ax.add_feature(cfeature.NaturalEarthFeature('physical', 'land', '110m', edgecolor='k', facecolor='lightgray'))\n",
    "\n",
    "# add grid lines\n",
    "    gl = ax.gridlines(crs=ccrs.PlateCarree(),\n",
    "                  draw_labels=True,\n",
    "                  linewidth=1,\n",
    "                  color='gray',\n",
    "                  alpha=0.5,\n",
    "                  linestyle='--')\n",
    "\n",
    "#extract year, month, day, and hour from the time series using splits, time format YYY-MM-DD-T00:00:00.000000000\n",
    "    times = d['time'][i].values.astype('datetime64[s]')\n",
    "    yr = str(np.datetime64(times, 'Y').astype(str))\n",
    "    mon = str(np.datetime64(times, 'M').astype(str)).split('-')[1]\n",
    "    day = str(np.datetime64(times, 'D').astype(str)).split('-')[2]\n",
    "    hr = str(np.datetime64(times, 'h').astype(str)).split('T')[1].split(':')[0]\n",
    "\n",
    "# add title\n",
    "    ax.set_title(\"IVT test on \" + mon + ', ' + yr + ' at ' + hr + ':00')\n",
    "#constructing filename\n",
    "    name = f'RiversTestIVT_{yr}-{mon}-{day}-{hr}.png'\n",
    "\n",
    "    #saveFolder = '/Users/landergreenway/Downloads/School/JuniorYr/EV333_AtmosphericDynamics/python/FinalProject/atmorivers/AtmoRiversFrames'\n",
    "    \n",
    "    \n",
    "# save figure \n",
    "    fig.savefig('AtmoRiversIVTFrames/' + name, facecolor = 'white', transparent = False, bbox_inches ='tight')\n",
    "   # fig.savefig(name, facecolor = 'white', transparent = False, bbox_inches ='tight')\n",
    "\n",
    "    plt.close(fig)\n",
    "    #print(name)\n",
    "     \n",
    "    "
   ]
  },
  {
   "cell_type": "code",
   "execution_count": 17,
   "id": "b658c08d-b209-4e34-bf74-55a83e1076fd",
   "metadata": {},
   "outputs": [
    {
     "data": {
      "text/plain": [
       "['AtmoRiversIVTFrames/RiversTestIVT_2023-08-19-18.png',\n",
       " 'AtmoRiversIVTFrames/RiversTestIVT_2023-08-19-19.png',\n",
       " 'AtmoRiversIVTFrames/RiversTestIVT_2023-08-19-20.png',\n",
       " 'AtmoRiversIVTFrames/RiversTestIVT_2023-08-19-21.png',\n",
       " 'AtmoRiversIVTFrames/RiversTestIVT_2023-08-19-22.png']"
      ]
     },
     "execution_count": 17,
     "metadata": {},
     "output_type": "execute_result"
    }
   ],
   "source": [
    "#Making GIFs\n",
    "\n",
    "#directory = '/AtmoriversIVTFrames/'\n",
    "#filenames = 'RiversTestIVT*.png'\n",
    "\n",
    "\n",
    "files = sorted(glob('AtmoRiversIVTFrames/RiversTestIVT*.png'))\n",
    "files\n",
    "\n"
   ]
  },
  {
   "cell_type": "code",
   "execution_count": 21,
   "id": "39e1a423-7262-4780-9e96-9bad259f61a3",
   "metadata": {},
   "outputs": [],
   "source": [
    "\n",
    "#creating array\n",
    "images = [ ] \n",
    "\n",
    "#setting loop \n",
    "for filename in files:\n",
    "        images.append(iio.imread(filename))\n",
    "\n",
    "iio.imwrite('RiversTestIVT.gif', images, duration = 500, loop = 0)\n"
   ]
  },
  {
   "cell_type": "code",
   "execution_count": null,
   "id": "37f7c000-8f59-4f36-bc6a-46fd8eb4a418",
   "metadata": {},
   "outputs": [],
   "source": []
  },
  {
   "cell_type": "code",
   "execution_count": null,
   "id": "412b8b57-21bf-4d28-832f-e423b4e377b8",
   "metadata": {},
   "outputs": [],
   "source": []
  },
  {
   "cell_type": "code",
   "execution_count": null,
   "id": "fa8b7661-af66-4f54-8397-adb303773b56",
   "metadata": {},
   "outputs": [],
   "source": [
    "def pull_plot(region, start_date, end_date):\n",
    "    \n",
    "    \n",
    "    \"\"\" This function takes the input region, start date, and end date, obtains the satellite \n",
    "        data from the ssec.wisc.edu ftp server and generates an output .gif saved to the local \n",
    "        machine. It does not store files temporarily on local machine. \n",
    "    \n",
    "        region: string, input region from bulleted list below\n",
    "        start_date: string of date to start loop featuring day, month, and year in any order using either / or - \n",
    "        end_date: string of date to start loop featuring day, month, and year in any order using either / or -     \n",
    "    \n",
    "    \"\"\"\n",
    "    \n",
    "    \n",
    "    \n",
    "    date_range = pd.date_range(start = start_date, end = end_date, freq = 'H')                 ## establish date range given inputs \n",
    "    months = pd.unique([i.strftime('%Y%m') for i in date_range])                               ## create unique Year/Month array to loop through ftp directory based on years and months\n",
    "                                                                                               ## this is somewhat of a saftey net if event desires straddles months or years\n",
    "    \n",
    "    ftp = ftplib.FTP('ftp.ssec.wisc.edu', 'anonymous')                                         ## log into the FTP server\n",
    "\n",
    "    images = []                                                                                ## create empty array to store files obtained from looping through ftp directories\n",
    "\n",
    "    for yearmon in months:                                                                     ## loop through unique years/months desired\n",
    "            \n",
    "        try:\n",
    "    '''\n",
    "            ftp.cwd(f\"/pub/mtpw2/images/tpw_nrl_colors/{region}/{yearmon}\")                    ## cd into correct directory based on region and year/month desired\n",
    "        \n",
    "            for pic in sorted(ftp.nlst()):                                                     ## ftp.nlst lists all the files in our ftp directory accessed above, we are looping over each image in this list\n",
    "\n",
    "                r = BytesIO()  sub = pd.to_datetime(str(pic)[4:15], format = '%Y%m%d.%H')                     ## ensure the image selected is within date range\n",
    "\n",
    "                if sub >= date_range[0] and sub <= date_range[-1]:\n",
    "\n",
    "                    print(f'{sub} is downloading')\n",
    "\n",
    "                    ftp.retrbinary(f'RETR {pic}', r.write)                                     ## retrive the image from the list and store it in our established byte buffer\n",
    "\n",
    "                    images.append(r)                                                           ## append the byte buffer for later plotting\n",
    "        \n",
    "        except:\n",
    "\n",
    "            print('Invalid region or date range inputted')\n",
    "            \n",
    "        \n",
    "    img, *imgs = [Image.open(f) for f in images]                                               ## formally open each temporarily stored byte buffer in images list\n",
    "    \n",
    "    img.save(f'IWV_{region}_{str(date_range[0])[0:10]}_{str(date_range[-1])[0:10]}.gif',       ## utilize image gif plotter that accepts output name (first row here is the saved output name based on region and dates)\n",
    "             format='GIF', append_images=imgs, save_all=True, duration=200, loop=3)            ## and append_images = our list of opened images that are in byte form\n",
    "                                                                                               ## gif features can be altered here such as # of loops and speed     \n",
    "\n",
    "    ftp.quit()                                                                                 ## make sure to close our connection!! \n",
    "    '''\n"
   ]
  }
 ],
 "metadata": {
  "kernelspec": {
   "display_name": "Python 3 (ipykernel)",
   "language": "python",
   "name": "python3"
  },
  "language_info": {
   "codemirror_mode": {
    "name": "ipython",
    "version": 3
   },
   "file_extension": ".py",
   "mimetype": "text/x-python",
   "name": "python",
   "nbconvert_exporter": "python",
   "pygments_lexer": "ipython3",
   "version": "3.11.7"
  }
 },
 "nbformat": 4,
 "nbformat_minor": 5
}
