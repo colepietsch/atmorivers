{
 "cells": [
  {
   "cell_type": "code",
   "execution_count": 5,
   "id": "88d6b359-b022-4d07-b384-c7ee54754bf4",
   "metadata": {},
   "outputs": [],
   "source": [
    "import xarray as xr\n",
    "import numpy as np\n",
    "import matplotlib as plt\n",
    "import pandas as pd\n",
    "import cmocean\n",
    "import cartopy.crs as ccrs\n",
    "import cartopy.feature as cfeature\n",
    "from cartopy.util import add_cyclic_point\n",
    "import ftplib\n",
    "from io import BytesIO\n",
    "from PIL import Image, ImageDraw\n",
    "import os\n",
    "import ftplib\n"
   ]
  },
  {
   "cell_type": "code",
   "execution_count": 6,
   "id": "fa8b7661-af66-4f54-8397-adb303773b56",
   "metadata": {},
   "outputs": [
    {
     "ename": "SyntaxError",
     "evalue": "invalid syntax (2503062409.py, line 32)",
     "output_type": "error",
     "traceback": [
      "\u001b[0;36m  Cell \u001b[0;32mIn[6], line 32\u001b[0;36m\u001b[0m\n\u001b[0;31m    r = BytesIO()  sub = pd.to_datetime(str(pic)[4:15], format = '%Y%m%d.%H')                     ## ensure the image selected is within date range\u001b[0m\n\u001b[0m                   ^\u001b[0m\n\u001b[0;31mSyntaxError\u001b[0m\u001b[0;31m:\u001b[0m invalid syntax\n"
     ]
    }
   ],
   "source": [
    "def pull_plot(region, start_date, end_date):\n",
    "    \n",
    "    \n",
    "    \"\"\" This function takes the input region, start date, and end date, obtains the satellite \n",
    "        data from the ssec.wisc.edu ftp server and generates an output .gif saved to the local \n",
    "        machine. It does not store files temporarily on local machine. \n",
    "    \n",
    "        region: string, input region from bulleted list below\n",
    "        start_date: string of date to start loop featuring day, month, and year in any order using either / or - \n",
    "        end_date: string of date to start loop featuring day, month, and year in any order using either / or -     \n",
    "    \n",
    "    \"\"\"\n",
    "    \n",
    "    \n",
    "    \n",
    "    date_range = pd.date_range(start = start_date, end = end_date, freq = 'H')                 ## establish date range given inputs \n",
    "    months = pd.unique([i.strftime('%Y%m') for i in date_range])                               ## create unique Year/Month array to loop through ftp directory based on years and months\n",
    "                                                                                               ## this is somewhat of a saftey net if event desires straddles months or years\n",
    "    \n",
    "    ftp = ftplib.FTP('ftp.ssec.wisc.edu', 'anonymous')                                         ## log into the FTP server\n",
    "\n",
    "    images = []                                                                                ## create empty array to store files obtained from looping through ftp directories\n",
    "\n",
    "    for yearmon in months:                                                                     ## loop through unique years/months desired\n",
    "            \n",
    "        try:\n",
    "       \n",
    "            ftp.cwd(f\"/pub/mtpw2/images/tpw_nrl_colors/{region}/{yearmon}\")                    ## cd into correct directory based on region and year/month desired\n",
    "        \n",
    "            for pic in sorted(ftp.nlst()):                                                     ## ftp.nlst lists all the files in our ftp directory accessed above, we are looping over each image in this list\n",
    "\n",
    "                r = BytesIO()  sub = pd.to_datetime(str(pic)[4:15], format = '%Y%m%d.%H')                     ## ensure the image selected is within date range\n",
    "\n",
    "                if sub >= date_range[0] and sub <= date_range[-1]:\n",
    "\n",
    "                    print(f'{sub} is downloading')\n",
    "\n",
    "                    ftp.retrbinary(f'RETR {pic}', r.write)                                     ## retrive the image from the list and store it in our established byte buffer\n",
    "\n",
    "                    images.append(r)                                                           ## append the byte buffer for later plotting\n",
    "        \n",
    "        except:\n",
    "\n",
    "            print('Invalid region or date range inputted')\n",
    "            \n",
    "        \n",
    "    img, *imgs = [Image.open(f) for f in images]                                               ## formally open each temporarily stored byte buffer in images list\n",
    "    \n",
    "    img.save(f'IWV_{region}_{str(date_range[0])[0:10]}_{str(date_range[-1])[0:10]}.gif',       ## utilize image gif plotter that accepts output name (first row here is the saved output name based on region and dates)\n",
    "             format='GIF', append_images=imgs, save_all=True, duration=200, loop=3)            ## and append_images = our list of opened images that are in byte form\n",
    "                                                                                               ## gif features can be altered here such as # of loops and speed     \n",
    "\n",
    "    ftp.quit()                                                                                 ## make sure to close our connection!! \n",
    "\n"
   ]
  },
  {
   "cell_type": "code",
   "execution_count": null,
   "id": "18279a1c-f622-48c3-8c8a-c13a20cfeafb",
   "metadata": {},
   "outputs": [],
   "source": []
  }
 ],
 "metadata": {
  "kernelspec": {
   "display_name": "Python 3 (ipykernel)",
   "language": "python",
   "name": "python3"
  },
  "language_info": {
   "codemirror_mode": {
    "name": "ipython",
    "version": 3
   },
   "file_extension": ".py",
   "mimetype": "text/x-python",
   "name": "python",
   "nbconvert_exporter": "python",
   "pygments_lexer": "ipython3",
   "version": "3.11.7"
  }
 },
 "nbformat": 4,
 "nbformat_minor": 5
}
