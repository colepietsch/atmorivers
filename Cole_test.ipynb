{
 "cells": [
  {
   "cell_type": "code",
   "execution_count": 1,
   "id": "75cecf5f-572d-4e2a-86a4-d96d77537240",
   "metadata": {},
   "outputs": [],
   "source": [
    "import xarray as xr\n",
    "import numpy as np\n",
    "import matplotlib as plt\n",
    "import pandas as pd\n",
    "import cmocean\n",
    "import cartopy.crs as ccrs\n",
    "import cartopy.feature as cfeature\n",
    "from cartopy.util import add_cyclic_point\n",
    "import ftplib\n",
    "import os\n",
    "import imageio"
   ]
  },
  {
   "cell_type": "code",
   "execution_count": 7,
   "id": "08d85826-1765-47f7-91ca-a5053344e33d",
   "metadata": {},
   "outputs": [],
   "source": [
    "# load data\n",
    "d = xr.open_dataset('/Users/colepietsch/Documents/EV333_AtmosphericDynamics/LabData/ERA5_monthly_t2m_regrid.nc')\n",
    "d = d.isel(time=(ds.time.dt.year < 2020))   #figure out how to do actual dates later\n",
    "\n"
   ]
  },
  {
   "cell_type": "code",
   "execution_count": null,
   "id": "6daddd0b-36a7-4c41-ad63-b5beeca28f69",
   "metadata": {},
   "outputs": [],
   "source": [
    "#define start end time, start with few days in august with hourly resolution\n",
    "#1st it is 1st day, end loop next day     i is 1 day "
   ]
  },
  {
   "cell_type": "code",
   "execution_count": null,
   "id": "84f28f47-1ec9-4250-ad9d-01bfc2a5126e",
   "metadata": {},
   "outputs": [],
   "source": []
  },
  {
   "cell_type": "code",
   "execution_count": null,
   "id": "5875339a-1c75-456b-9d40-bfaafea033e3",
   "metadata": {},
   "outputs": [],
   "source": [
    "png_dir = '../animation/png'\n",
    "images = []\n",
    "for file_name in sorted(os.listdir(png_dir)):\n",
    "    if file_name.endswith('.png'):\n",
    "        file_path = os.path.join(png_dir, file_name)\n",
    "        images.append(imageio.imread(file_path))\n",
    "\n",
    "# Make it pause at the end so that the viewers can ponder\n",
    "for _ in range(10):\n",
    "    images.append(imageio.imread(file_path))\n",
    "\n",
    "imageio.mimsave('../animation/gif/movie.gif', images)"
   ]
  }
 ],
 "metadata": {
  "kernelspec": {
   "display_name": "Python 3 (ipykernel)",
   "language": "python",
   "name": "python3"
  },
  "language_info": {
   "codemirror_mode": {
    "name": "ipython",
    "version": 3
   },
   "file_extension": ".py",
   "mimetype": "text/x-python",
   "name": "python",
   "nbconvert_exporter": "python",
   "pygments_lexer": "ipython3",
   "version": "3.11.7"
  }
 },
 "nbformat": 4,
 "nbformat_minor": 5
}
