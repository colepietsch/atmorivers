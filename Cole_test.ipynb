{
 "cells": [
  {
   "cell_type": "code",
   "execution_count": 1,
   "id": "75cecf5f-572d-4e2a-86a4-d96d77537240",
   "metadata": {},
   "outputs": [],
   "source": [
    "import xarray as xr\n",
    "import numpy as np\n",
    "import matplotlib.pyplot as plt\n",
    "import pandas as pd\n",
    "import cmocean\n",
    "import cartopy.crs as ccrs\n",
    "import cartopy.feature as cfeature\n",
    "from cartopy.util import add_cyclic_point\n",
    "import ftplib\n",
    "import os\n",
    "import imageio.v3 as iio\n",
    "import datetime\n",
    "from glob import glob"
   ]
  },
  {
   "cell_type": "code",
   "execution_count": 2,
   "id": "6daddd0b-36a7-4c41-ad63-b5beeca28f69",
   "metadata": {},
   "outputs": [],
   "source": [
    "# Define start and end dates\n",
    "start = '2023-08-22'\n",
    "end = '2023-08-24'"
   ]
  },
  {
   "cell_type": "code",
   "execution_count": 3,
   "id": "bc4b319e-f2af-482f-8425-3cadd04c58c2",
   "metadata": {},
   "outputs": [],
   "source": [
    "# load data\n",
    "d = xr.open_dataset('/Users/colepietsch/Documents/EV333_AtmosphericDynamics/Rivers/atmorivers/ERA5_SouthAmerica_2023_hourly_tp.nc')\n",
    "\n",
    "#subset data and convert to mm/hr\n",
    "d = d.sel(time = slice(start, end))\n",
    "d = d['tp'] * 1000 * 24\n",
    "\n",
    "#defining number of frames given by subsetted data\n",
    "num = len(d['time'])"
   ]
  },
  {
   "cell_type": "code",
   "execution_count": 5,
   "id": "08d85826-1765-47f7-91ca-a5053344e33d",
   "metadata": {},
   "outputs": [],
   "source": [
    "#choosing data vis parameters and projection\n",
    "cmap = cmocean.cm.rain\n",
    "lev = np.arange(0, 10, 0.25)\n",
    "proj = ccrs.PlateCarree(central_longitude=-77)\n",
    "\n",
    "#create loop\n",
    "for i in range(0, 1) :\n",
    "\n",
    "    # define figure and axes, figure size, and resolution\n",
    "    fig = plt.figure(figsize=(8, 4.5), dpi=300)\n",
    "    ax = plt.axes(projection = proj)\n",
    "\n",
    "    # filled contour map of metric in question\n",
    "    d[i].plot.contourf(\n",
    "        x = 'longitude',\n",
    "        y = 'latitude',\n",
    "        ax=ax,\n",
    "        transform=ccrs.PlateCarree(),\n",
    "        levels=lev,\n",
    "        extend='max',\n",
    "        colors=cmap,\n",
    "        add_colorbar=True,\n",
    "        cbar_kwargs = {\"label\":\"Total Precip. in mm/hr\"})\n",
    "\n",
    "    # add coastlines\n",
    "    ax.add_feature(cfeature.BORDERS, linestyle=':')\n",
    "    ax.coastlines(resolution='110m')  #Currently can be one of “110m”, “50m”, and “10m”.\n",
    "\n",
    "    # add grid lines\n",
    "    gl = ax.gridlines(crs=ccrs.PlateCarree(),\n",
    "                      draw_labels=True,\n",
    "                      linewidth=1,\n",
    "                      color='gray',\n",
    "                      alpha=0.5,\n",
    "                      linestyle='--')\n",
    "\n",
    "    # Extract year, month, day, and hour from time series, splits are used, format 'YYYY-MM-DDT00:00:00.000000000'\n",
    "    times = d['time'][i].values.astype('datetime64[s]')\n",
    "    yr = str(np.datetime64(times, 'Y').astype(str))\n",
    "    mon = str(np.datetime64(times, 'M').astype(str).split('-')[1])\n",
    "    day = str(np.datetime64(times, 'D').astype(str).split('-')[2])\n",
    "    hr = str(np.datetime64(times, 'h').astype(str).split('T')[1].split(':')[0])\n",
    "   \n",
    "    # Construct the filename using the extracted information\n",
    "    name = f'frames/rivers_test_{yr}-{mon}-{day}-{hr}.png'\n",
    "\n",
    "    # add title\n",
    "    ax.set_title('Total Precipitation on ' + mon + '/' + day + ', ' + yr + ' at ' + hr + ':00')\n",
    "  \n",
    "    # Save the figure\n",
    "    fig.savefig(name, facecolor='white', transparent=False, bbox_inches='tight')\n",
    "\n",
    "\n",
    "    \n",
    "    plt.close(fig)\n"
   ]
  },
  {
   "cell_type": "code",
   "execution_count": null,
   "id": "c07745e9-67af-41f5-8be5-55d2e5566bdb",
   "metadata": {},
   "outputs": [],
   "source": [
    "#getting frames and removing nonframes\n",
    "files = sorted(glob('frames/rivers_test*.png'))"
   ]
  },
  {
   "cell_type": "code",
   "execution_count": null,
   "id": "d62dfa01-71af-4c67-80df-c88c48c6cc73",
   "metadata": {},
   "outputs": [],
   "source": [
    "\n",
    "#creating empty array\n",
    "images = [ ]\n",
    "\n",
    "#setting loop to append files to images, creating gif file\n",
    "for filename in files :\n",
    "  images.append(iio.imread(filename))\n",
    "\n",
    "iio.imwrite('rivers_test.gif', images, duration = 250, loop = 0)\n"
   ]
  }
 ],
 "metadata": {
  "kernelspec": {
   "display_name": "Python 3 (ipykernel)",
   "language": "python",
   "name": "python3"
  },
  "language_info": {
   "codemirror_mode": {
    "name": "ipython",
    "version": 3
   },
   "file_extension": ".py",
   "mimetype": "text/x-python",
   "name": "python",
   "nbconvert_exporter": "python",
   "pygments_lexer": "ipython3",
   "version": "3.11.7"
  }
 },
 "nbformat": 4,
 "nbformat_minor": 5
}
