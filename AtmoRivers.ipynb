{
 "cells": [
  {
   "cell_type": "code",
   "execution_count": null,
   "id": "513a4e44-132d-420d-a7f1-8652bc09710f",
   "metadata": {},
   "outputs": [],
   "source": [
    "import xarray as xr\n",
    "import numpy as np\n",
    "import matplotlib as plt\n",
    "import pandas as pd\n",
    "import cmocean\n",
    "import cartopy.crs as ccrs\n",
    "import cartopy.feature as cfeature\n",
    "from cartopy.util import add_cyclic_point\n"
   ]
  },
  {
   "cell_type": "markdown",
   "id": "06afbc2e-ac8f-4328-a87d-daa3e792c424",
   "metadata": {},
   "source": [
    "Lets gooooooo"
   ]
  },
  {
   "cell_type": "code",
   "execution_count": null,
   "id": "241b6207-2485-4cc5-9fc1-cfe5b47cf8ce",
   "metadata": {},
   "outputs": [],
   "source": []
  }
 ],
 "metadata": {
  "kernelspec": {
   "display_name": "Python 3 (ipykernel)",
   "language": "python",
   "name": "python3"
  },
  "language_info": {
   "codemirror_mode": {
    "name": "ipython",
    "version": 3
   },
   "file_extension": ".py",
   "mimetype": "text/x-python",
   "name": "python",
   "nbconvert_exporter": "python",
   "pygments_lexer": "ipython3",
   "version": "3.11.7"
  }
 },
 "nbformat": 4,
 "nbformat_minor": 5
}
