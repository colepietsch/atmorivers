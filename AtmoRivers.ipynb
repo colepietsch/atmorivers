{
 "cells": [
  {
   "cell_type": "code",
   "execution_count": null,
   "id": "513a4e44-132d-420d-a7f1-8652bc09710f",
   "metadata": {},
   "outputs": [],
   "source": [
    "import xarray as xr\n",
    "import numpy as np\n",
    "import matplotlib as plt\n",
    "import pandas as pd\n",
    "import cmocean\n",
    "import cartopy.crs as ccrs\n",
    "import cartopy.feature as cfeature\n",
    "from cartopy.util import add_cyclic_point\n",
    "import ftplib\n",
    "from io import BytesIO\n",
    "from PIL import Image, ImageDraw"
   ]
  },
  {
   "cell_type": "markdown",
   "id": "06afbc2e-ac8f-4328-a87d-daa3e792c424",
   "metadata": {},
   "source": [
    "Lets gooooooo"
   ]
  },
  {
   "cell_type": "markdown",
   "id": "c2a9f743-e119-41be-83c3-87df8f07b2ed",
   "metadata": {},
   "source": [
    "Troubleshooting for netcdf: "
   ]
  },
  {
   "cell_type": "code",
   "execution_count": null,
   "id": "e493a074-a6a9-424a-b623-f61ce625b0d8",
   "metadata": {},
   "outputs": [],
   "source": [
    "def pull_plot(region, start_date, end_date):\n",
    "    \n",
    "    \n",
    "    \"\"\" This function takes the input region, start date, and end date, obtains the satellite \n",
    "        data from the ssec.wisc.edu ftp server and generates an output .gif saved to the local \n",
    "        machine. It does not store files temporarily on local machine. \n",
    "    \n",
    "        region: string, input region from bulleted list below\n",
    "        start_date: string of date to start loop featuring day, month, and year in any order using either / or - \n",
    "        end_date: string of date to start loop featuring day, month, and year in any order using either / or -     \n",
    "    \n",
    "    \"\"\"\n",
    "    \n",
    "    \n",
    "    \n",
    "    date_range = pd.date_range(start = start_date, end = end_date, freq = 'H')                 ## establish date range given inputs \n",
    "    months = pd.unique([i.strftime('%Y%m') for i in date_range])                               ## create unique Year/Month array to loop through ftp directory based on years and months\n",
    "                                                                                               ## this is somewhat of a saftey net if event desires straddles months or years\n",
    "    \n",
    "    ftp = ftplib.FTP('ftp.ssec.wisc.edu', 'anonymous')                                         ## log into the FTP server\n",
    "\n",
    "    images = []                                                                                ## create empty array to store files obtained from looping through ftp directories\n",
    "\n",
    "    for yearmon in months:                                                                     ## loop through unique years/months desired\n",
    "            \n",
    "        try:\n",
    "       \n",
    "            ftp.cwd(f\"/pub/mtpw2/images/tpw_nrl_colors/{region}/{yearmon}\")                    ## cd into correct directory based on region and year/month desired\n",
    "        \n",
    "            for pic in sorted(ftp.nlst()):                                                     ## ftp.nlst lists all the files in our ftp directory accessed above, we are looping over each image in this list\n",
    "\n",
    "                r = BytesIO()                                                                  ## establish an in-memory bytes buffer for us to temporarily store the ftp image in\n",
    "\n",
    "                sub = pd.to_datetime(str(pic)[4:15], format = '%Y%m%d.%H')                     ## ensure the image selected is within date range\n",
    "\n",
    "                if sub >= date_range[0] and sub <= date_range[-1]:\n",
    "\n",
    "                    print(f'{sub} is downloading')\n",
    "\n",
    "                    ftp.retrbinary(f'RETR {pic}', r.write)                                     ## retrive the image from the list and store it in our established byte buffer\n",
    "\n",
    "                    images.append(r)                                                           ## append the byte buffer for later plotting\n",
    "        \n",
    "        except:\n",
    "\n",
    "            print('Invalid region or date range inputted')\n",
    "            \n",
    "        \n",
    "    img, *imgs = [Image.open(f) for f in images]                                               ## formally open each temporarily stored byte buffer in images list\n",
    "    \n",
    "    img.save(f'IWV_{region}_{str(date_range[0])[0:10]}_{str(date_range[-1])[0:10]}.gif',       ## utilize image gif plotter that accepts output name (first row here is the saved output name based on region and dates)\n",
    "             format='GIF', append_images=imgs, save_all=True, duration=200, loop=3)            ## and append_images = our list of opened images that are in byte form\n",
    "                                                                                               ## gif features can be altered here such as # of loops and speed     \n",
    "\n",
    "    ftp.quit()                                                                                 ## make sure to close our connection!! \n",
    "\n"
   ]
  },
  {
   "cell_type": "code",
   "execution_count": null,
   "id": "b2b9c93f-6ff0-49be-8fd9-cf70ce68e6ce",
   "metadata": {},
   "outputs": [],
   "source": [
    "## example of inputs for pull_plot function\n",
    "## note how start and end date \n",
    "\n",
    "region = 'samer2'\n",
    "start_date = '2018-12-31'\n",
    "end_date = '2019-01-01'"
   ]
  },
  {
   "cell_type": "code",
   "execution_count": null,
   "id": "3249828f-ca30-44ea-b1bd-2686f176fa16",
   "metadata": {},
   "outputs": [],
   "source": [
    "%%time\n",
    "\n",
    "pull_plot(region, start_date, end_date)"
   ]
  }
 ],
 "metadata": {
  "kernelspec": {
   "display_name": "Python 3 (ipykernel)",
   "language": "python",
   "name": "python3"
  },
  "language_info": {
   "codemirror_mode": {
    "name": "ipython",
    "version": 3
   },
   "file_extension": ".py",
   "mimetype": "text/x-python",
   "name": "python",
   "nbconvert_exporter": "python",
   "pygments_lexer": "ipython3",
   "version": "3.11.7"
  }
 },
 "nbformat": 4,
 "nbformat_minor": 5
}
