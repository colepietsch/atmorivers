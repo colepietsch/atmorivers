{
 "cells": [
  {
   "cell_type": "markdown",
   "id": "59c91418-9da6-4010-9715-b4917e111935",
   "metadata": {},
   "source": [
    "## Animating Atmospheric Rivers \n",
    "##### Lander Greenway, Cole Pietsch"
   ]
  },
  {
   "cell_type": "code",
   "execution_count": 1,
   "id": "513a4e44-132d-420d-a7f1-8652bc09710f",
   "metadata": {},
   "outputs": [],
   "source": [
    "import xarray as xr\n",
    "import numpy as np\n",
    "import matplotlib.pyplot as plt\n",
    "import pandas as pd\n",
    "import cmocean\n",
    "import cartopy.crs as ccrs\n",
    "import cartopy.feature as cfeature\n",
    "from cartopy.util import add_cyclic_point\n",
    "import ftplib\n",
    "import os\n",
    "import imageio.v3 as iio\n",
    "import datetime\n",
    "from glob import glob"
   ]
  },
  {
   "cell_type": "markdown",
   "id": "09acc8f2-dd4a-4b66-a7b2-7c63316fa3e7",
   "metadata": {},
   "source": [
    "#### *Define parameters for animation*"
   ]
  },
  {
   "cell_type": "code",
   "execution_count": 2,
   "id": "f9a2c402-475a-4365-82c4-5997be9d1653",
   "metadata": {},
   "outputs": [],
   "source": [
    "# Define start and end dates\n",
    "start = '2023-08-22'\n",
    "end = '2023-08-24'\n",
    "\n",
    "#define other parameters, 'tp' for precip and '\n",
    "var = 'tp'"
   ]
  },
  {
   "cell_type": "code",
   "execution_count": 3,
   "id": "51fc9982-3acd-4ab3-8f42-5809126181d8",
   "metadata": {},
   "outputs": [],
   "source": [
    "# load data\n",
    "data = xr.open_dataset('/Users/colepietsch/Documents/EV333_AtmosphericDynamics/Rivers/atmorivers/ERA5_SouthAmerica_2023_hourly_tp.nc')"
   ]
  },
  {
   "cell_type": "markdown",
   "id": "d58a05a6-4d90-4d74-bd4f-10e410fb35f6",
   "metadata": {},
   "source": [
    "**-----------------------------------------------------------------------------------------------------------------------------------------**"
   ]
  },
  {
   "cell_type": "code",
   "execution_count": 4,
   "id": "00ac9043-b2ad-4d98-b108-9d1ca2be9d49",
   "metadata": {},
   "outputs": [
    {
     "name": "stdout",
     "output_type": "stream",
     "text": [
      "Directory '2023-08-22_2023-08-24' already exists. Skipping creation.\n"
     ]
    }
   ],
   "source": [
    "#output directory\n",
    "output_dir = str(start + '_' + end)\n",
    "if not os.path.exists(output_dir):\n",
    "    os.mkdir(output_dir)\n",
    "else:\n",
    "    print(\"Directory '{}' already exists. Skipping creation.\".format(output_dir))"
   ]
  },
  {
   "cell_type": "code",
   "execution_count": 5,
   "id": "9486997c-f8fd-494d-bbc1-65a2302e9fef",
   "metadata": {},
   "outputs": [],
   "source": [
    "#subset data and extract max for scaling color bar\n",
    "data = data.sel(time = slice(start, end))\n",
    "max_value = data[var].max().values.item()\n",
    "#max_value = np.atleast_1d(max_value).item()\n",
    "tick_value = max_value / 40\n",
    "\n",
    "#extracting variable and applying unit conversions if needed\n",
    "if var == 'tp' :\n",
    "    data = data[var] * 1000\n",
    "    title = 'Total Precipitation'\n",
    "    lev = np.arange(0, (1000 * max_value) * 0.75, tick_value * 1000) \n",
    "    cmap = cmocean.cm.rain  \n",
    "    cbar_lab = \"Total Precip. in mm/hr\"\n",
    "\n",
    "if var == 'tcvw' : \n",
    "    data = data[var]\n",
    "    title = 'Total Water Column Vapor Transport'\n",
    "    lev = np.arange(0, max_value, tick_value)\n",
    "    cmap = cmocean.cm.rain\n",
    "    cbar_lab = \"Total Precip. in mm/hr\"\n",
    "\n",
    "#defining number of frames given by subset data\n",
    "num = len(data['time'])"
   ]
  },
  {
   "cell_type": "code",
   "execution_count": 6,
   "id": "568b2713-b8ef-4f38-9790-1524d26e82a8",
   "metadata": {},
   "outputs": [],
   "source": [
    "#choosing projection\n",
    "proj = ccrs.PlateCarree(central_longitude=-77)\n",
    "\n",
    "#create loop\n",
    "for i in range(0, 1) :\n",
    "\n",
    "    # define figure and axes, figure size, and resolution\n",
    "    fig = plt.figure(figsize=(8, 4.5), dpi=300)\n",
    "    ax = plt.axes(projection = proj)\n",
    "\n",
    "    # filled contour map of metric in question\n",
    "    data[i].plot.contourf(\n",
    "        x = 'longitude',\n",
    "        y = 'latitude',\n",
    "        ax=ax,\n",
    "        transform=ccrs.PlateCarree(),\n",
    "        levels=lev,\n",
    "        extend='max',\n",
    "        colors=cmap,\n",
    "        add_colorbar=True,\n",
    "        cbar_kwargs = {\"label\":cbar_lab})\n",
    "\n",
    "    # add coastlines\n",
    "    ax.add_feature(cfeature.BORDERS, linestyle=':')\n",
    "    ax.coastlines(resolution='110m')  #Currently can be one of “110m”, “50m”, and “10m”.\n",
    "\n",
    "    # add grid lines\n",
    "    gl = ax.gridlines(crs=ccrs.PlateCarree(),\n",
    "                      draw_labels=True,\n",
    "                      linewidth=1,\n",
    "                      color='gray',\n",
    "                      alpha=0.5,\n",
    "                      linestyle='--')\n",
    "    gl.right_labels = None\n",
    "    gl.top_labels = None\n",
    "    \n",
    "\n",
    "    # Extract year, month, day, and hour from time series, splits are used on format of 'YYYY-MM-DDT00:00:00.000000000'\n",
    "    times = data['time'][i].values.astype('datetime64[s]')\n",
    "    yr = str(np.datetime64(times, 'Y').astype(str))\n",
    "    mon = str(np.datetime64(times, 'M').astype(str).split('-')[1])\n",
    "    day = str(np.datetime64(times, 'D').astype(str).split('-')[2])\n",
    "    hr = str(np.datetime64(times, 'h').astype(str).split('T')[1].split(':')[0])\n",
    "   \n",
    "    # Construct the filename using the extracted information\n",
    "    name = output_dir + f'/{var}_{yr}-{mon}-{day}-{hr}.png'\n",
    "\n",
    "    # add title\n",
    "    ax.set_title(title + ' on ' + mon + '/' + day + ', ' + yr + ' at ' + hr + ':00')\n",
    "  \n",
    "    # Save the figure\n",
    "    fig.savefig(name, facecolor='white', transparent=False, bbox_inches='tight')\n",
    "\n",
    "\n",
    "    \n",
    "    plt.close(fig)\n"
   ]
  },
  {
   "cell_type": "code",
   "execution_count": 7,
   "id": "67a2205f-aee8-4ec1-a749-9ed727fabd54",
   "metadata": {},
   "outputs": [],
   "source": [
    "#getting frames \n",
    "files = sorted(glob(output_dir + '/' + var + '*.png'))\n",
    "\n",
    "#creating empty array\n",
    "images = [ ]\n",
    "\n",
    "#setting loop to append files to images\n",
    "for filename in files :\n",
    "    images.append(iio.imread(filename))\n",
    "    \n",
    "#writing gif\n",
    "iio.imwrite(var + '_' + start + '_' + end +'.gif', images, duration = 250, loop = 0)"
   ]
  },
  {
   "cell_type": "code",
   "execution_count": null,
   "id": "8fb102e5-9a1a-4e82-8c0d-5fde23e68cbf",
   "metadata": {},
   "outputs": [],
   "source": []
  }
 ],
 "metadata": {
  "kernelspec": {
   "display_name": "Python 3 (ipykernel)",
   "language": "python",
   "name": "python3"
  },
  "language_info": {
   "codemirror_mode": {
    "name": "ipython",
    "version": 3
   },
   "file_extension": ".py",
   "mimetype": "text/x-python",
   "name": "python",
   "nbconvert_exporter": "python",
   "pygments_lexer": "ipython3",
   "version": "3.11.7"
  }
 },
 "nbformat": 4,
 "nbformat_minor": 5
}
