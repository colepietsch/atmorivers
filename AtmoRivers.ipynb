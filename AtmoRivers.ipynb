{
 "cells": [
  {
   "cell_type": "markdown",
   "id": "59c91418-9da6-4010-9715-b4917e111935",
   "metadata": {},
   "source": [
    "# Animating Atmospheric Rivers \n",
    "#### Lander Greenway, Cole Pietsch\n",
    "***\n",
    ">Version 1.1.2"
   ]
  },
  {
   "cell_type": "code",
   "execution_count": 1,
   "id": "12bcf5a1-829d-4028-b05a-aa2dc44b3727",
   "metadata": {},
   "outputs": [],
   "source": [
    "import xarray as xr\n",
    "import numpy as np\n",
    "import matplotlib.pyplot as plt\n",
    "import pandas as pd\n",
    "import cmocean\n",
    "import cartopy.crs as ccrs\n",
    "import cartopy.feature as cfeature\n",
    "from cartopy.util import add_cyclic_point\n",
    "import ftplib\n",
    "import os\n",
    "import imageio.v3 as iio\n",
    "import datetime\n",
    "from glob import glob"
   ]
  },
  {
   "cell_type": "markdown",
   "id": "09acc8f2-dd4a-4b66-a7b2-7c63316fa3e7",
   "metadata": {},
   "source": [
    "#### *Define parameters for animation*"
   ]
  },
  {
   "cell_type": "markdown",
   "id": "25dd9027-67c2-4a35-bd2a-7180fcc4440c",
   "metadata": {},
   "source": [
    "This progarm works with NetCDF files. Available variables are tp, tcwv, tcc."
   ]
  },
  {
   "cell_type": "code",
   "execution_count": 2,
   "id": "f9a2c402-475a-4365-82c4-5997be9d1653",
   "metadata": {},
   "outputs": [],
   "source": [
    "# Define start and end dates\n",
    "start = '2023-06-22'\n",
    "end = '2023-06-25'\n",
    "\n",
    "#define var as the mapped variable, string name inside array(?)\n",
    "var = 'tcc'"
   ]
  },
  {
   "cell_type": "code",
   "execution_count": 3,
   "id": "51fc9982-3acd-4ab3-8f42-5809126181d8",
   "metadata": {},
   "outputs": [],
   "source": [
    "# load data\n",
    "data = xr.open_dataset('/Users/colepietsch/Documents/EV333_AtmosphericDynamics/Rivers/atmorivers/ERA5_SouthAmerica_2023_hourly_tcc.nc')"
   ]
  },
  {
   "cell_type": "markdown",
   "id": "d58a05a6-4d90-4d74-bd4f-10e410fb35f6",
   "metadata": {},
   "source": [
    "***"
   ]
  },
  {
   "cell_type": "code",
   "execution_count": 4,
   "id": "00ac9043-b2ad-4d98-b108-9d1ca2be9d49",
   "metadata": {},
   "outputs": [],
   "source": [
    "#output directory\n",
    "output_dir = str(var + '_' + start + '_' + end)\n",
    "if not os.path.exists(output_dir):\n",
    "    os.mkdir(output_dir)\n",
    "else:\n",
    "    print(\"Directory '{}' already exists. Skipping creation.\".format(output_dir))"
   ]
  },
  {
   "cell_type": "code",
   "execution_count": 5,
   "id": "9486997c-f8fd-494d-bbc1-65a2302e9fef",
   "metadata": {},
   "outputs": [],
   "source": [
    "#subset data and extract max for scaling color bar\n",
    "data = data.sel(time = slice(start, end))\n",
    "max_value = data[var].max().values.item()\n",
    "\n",
    "if not (-0.5 <= max_value <= 0.5) :\n",
    "    round(max_value)\n",
    "\n",
    "tick_value = max_value / 40 if round(max_value / 40) == 0 else round(max_value / 40)\n",
    "\n",
    "    \n",
    "\n",
    "#extracting variable, applying color bar contraint by %, and applying unit conversions if needed (also convert units of tick and max values)\n",
    "if var == 'tp' :\n",
    "    data = data[var] * 1000\n",
    "    title = 'Total Precipitation'\n",
    "    lev = np.arange(0, 1000 * max_value * 0.4, tick_value * 1000) \n",
    "    cmap = cmocean.cm.rain  \n",
    "    cbar_lab = \"Total Precip. in mm/hr\"\n",
    "    xcoord_style = \"longitude\"\n",
    "    ycoord_style = \"latitude\"\n",
    "\n",
    "elif var == 'tcwv' :\n",
    "    data = data[var]\n",
    "    title = 'Total Column Water Vapor'\n",
    "    lev = np.arange(0, max_value * 0.6, tick_value)\n",
    "    cmap = cmocean.cm.deep\n",
    "    cbar_lab = \"TCWV (kg/m^2)\"\n",
    "    xcoord_style = \"longitude\"\n",
    "    ycoord_style = \"latitude\"\n",
    "\n",
    "elif var == 'tcc' :\n",
    "    data = data[var]\n",
    "    title = 'Total Cloud Cover'\n",
    "    lev = np.arange(0, 1.05, 0.05)\n",
    "    cmap = cmocean.cm.ice_r\n",
    "    cbar_lab = \"TCC (%)\"\n",
    "    xcoord_style = \"longitude\"\n",
    "    ycoord_style = \"latitude\"\n",
    "\n",
    "else:\n",
    "    print('ERROR: You Done Screwed Up. Variable not recognized')\n",
    "\n",
    "#defining number of frames given by subset data\n",
    "num = len(data['time'])"
   ]
  },
  {
   "cell_type": "code",
   "execution_count": 6,
   "id": "568b2713-b8ef-4f38-9790-1524d26e82a8",
   "metadata": {},
   "outputs": [],
   "source": [
    "#choosing projection\n",
    "proj = ccrs.PlateCarree(central_longitude=-77)\n",
    "\n",
    "#create loop\n",
    "for i in range(0, num) :\n",
    "\n",
    "    # define figure and axes, figure size, and resolution\n",
    "    fig = plt.figure(figsize=(8, 4.5), dpi=300)\n",
    "    ax = plt.axes(projection = proj)\n",
    "\n",
    "    # filled contour map of metric in question\n",
    "    data[i].plot.contourf(\n",
    "        x = xcoord_style, \n",
    "        y = ycoord_style,\n",
    "        ax=ax,\n",
    "        transform=ccrs.PlateCarree(),\n",
    "        levels=lev,\n",
    "        extend='max',\n",
    "        colors=cmap,\n",
    "        add_colorbar=True,\n",
    "        cbar_kwargs = {\"label\":cbar_lab})\n",
    "\n",
    "    # add coastlines\n",
    "    ax.add_feature(cfeature.BORDERS, linestyle=':')\n",
    "    ax.coastlines(resolution='110m')  #Currently can be one of “110m”, “50m”, and “10m”.\n",
    "\n",
    "    # add grid lines\n",
    "    gl = ax.gridlines(crs=ccrs.PlateCarree(),\n",
    "                      draw_labels=True,\n",
    "                      linewidth=1,\n",
    "                      color='gray',\n",
    "                      alpha=0.5,\n",
    "                      linestyle='--')\n",
    "    gl.right_labels = None\n",
    "    gl.top_labels = None\n",
    "    \n",
    "\n",
    "    # Extract year, month, day, and hour from time series, splits are used on format of 'YYYY-MM-DDT00:00:00.000000000'\n",
    "    times = data['time'][i].values.astype('datetime64[s]')\n",
    "    yr = str(np.datetime64(times, 'Y').astype(str))\n",
    "    mon = str(np.datetime64(times, 'M').astype(str).split('-')[1])\n",
    "    day = str(np.datetime64(times, 'D').astype(str).split('-')[2])\n",
    "    hr = str(np.datetime64(times, 'h').astype(str).split('T')[1].split(':')[0])\n",
    "   \n",
    "    # Construct the filename using the extracted information\n",
    "    name = output_dir + f'/{var}_{yr}-{mon}-{day}-{hr}.png'\n",
    "\n",
    "    # add title\n",
    "    ax.set_title(title + ' on ' + mon + '/' + day + ', ' + yr + ' at ' + hr + ':00')\n",
    "  \n",
    "    # Save the figure\n",
    "    fig.savefig(name, facecolor='white', transparent=False, bbox_inches='tight')\n",
    "\n",
    "\n",
    "    \n",
    "    plt.close(fig)\n"
   ]
  },
  {
   "cell_type": "code",
   "execution_count": 7,
   "id": "67a2205f-aee8-4ec1-a749-9ed727fabd54",
   "metadata": {},
   "outputs": [
    {
     "name": "stdout",
     "output_type": "stream",
     "text": [
      "Directory 'OutputGifs' already exists. Skipping creation.\n"
     ]
    }
   ],
   "source": [
    "#getting frames \n",
    "files = sorted(glob(output_dir + '/' + var + '*.png'))\n",
    "\n",
    "#creating empty array\n",
    "images = [ ]\n",
    "\n",
    "#setting loop to append files to images\n",
    "for filename in files :\n",
    "    images.append(iio.imread(filename))\n",
    "\n",
    "#GIF output directory\n",
    "gifDir = \"OutputGifs\"\n",
    "if not os.path.exists(gifDir):\n",
    "    os.mkdir(gifDir)\n",
    "else:\n",
    "    print(\"Directory '{}' already exists. Skipping creation.\".format(gifDir))\n",
    "\n",
    "#writing gif, placing it in the GIF output directory\n",
    "iio.imwrite(\"OutputGifs/\" + var + '_' + start + '_' + end +'.gif', images, duration = 150, loop = 0)"
   ]
  },
  {
   "cell_type": "code",
   "execution_count": 8,
   "id": "9b838256-51fe-4690-90ba-617274465d0e",
   "metadata": {},
   "outputs": [
    {
     "name": "stdout",
     "output_type": "stream",
     "text": [
      "Directory 'tcc_2023-06-22_2023-06-25' deleted successfully.\n"
     ]
    }
   ],
   "source": [
    "#clearing the directory frames are stored in \n",
    "if os.path.exists(output_dir):\n",
    "    #iterate for all items in directory\n",
    "    for item in os.listdir(output_dir):\n",
    "        item_path = os.path.join(output_dir, item)  \n",
    "        \n",
    "        # Check if it's a file and delete it\n",
    "        if os.path.isfile(item_path):\n",
    "            os.remove(item_path)\n",
    "            \n",
    "        # Check if it's a directory and delete it recursively\n",
    "        elif os.path.isdir(item_path):\n",
    "            os.rmdir(item_path)\n",
    "            \n",
    "    # After deleting all files and directories within the directory, remove the directory itself\n",
    "    os.rmdir(output_dir)\n",
    "    print(f\"Directory '{output_dir}' deleted successfully.\")\n",
    "    \n",
    "else:\n",
    "    print(\"Directory does not exist.\")"
   ]
  }
 ],
 "metadata": {
  "kernelspec": {
   "display_name": "Python 3 (ipykernel)",
   "language": "python",
   "name": "python3"
  },
  "language_info": {
   "codemirror_mode": {
    "name": "ipython",
    "version": 3
   },
   "file_extension": ".py",
   "mimetype": "text/x-python",
   "name": "python",
   "nbconvert_exporter": "python",
   "pygments_lexer": "ipython3",
   "version": "3.11.7"
  }
 },
 "nbformat": 4,
 "nbformat_minor": 5
}
